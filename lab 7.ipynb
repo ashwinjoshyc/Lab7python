{
  "metadata": {
    "language_info": {
      "codemirror_mode": {
        "name": "python",
        "version": 3
      },
      "file_extension": ".py",
      "mimetype": "text/x-python",
      "name": "python",
      "nbconvert_exporter": "python",
      "pygments_lexer": "ipython3",
      "version": "3.8"
    },
    "kernelspec": {
      "name": "python",
      "display_name": "Python (Pyodide)",
      "language": "python"
    }
  },
  "nbformat_minor": 4,
  "nbformat": 4,
  "cells": [
    {
      "cell_type": "code",
      "source": "x=7\nprint(x)",
      "metadata": {
        "trusted": true
      },
      "execution_count": 1,
      "outputs": [
        {
          "name": "stdout",
          "text": "7\n",
          "output_type": "stream"
        }
      ]
    },
    {
      "cell_type": "code",
      "source": "'''Q1. Create two 3×3 matrices using the random function in Numpy and perform the following operations.\n Product (prod)\n Multiplication (multiply)\n Dot Product (dot)'''\n\n\nimport numpy as np\n\n# Create two random 3x3 matrices\nmatrix1 = np.random.rand(3, 3)\nmatrix2 = np.random.rand(3, 3)\n\nprint(\"Matrix 1:\")\nprint(matrix1)\n\nprint(\"Matrix 2:\")\nprint(matrix2)\n\n# Perform the requested operations\nproduct_result = np.prod(matrix1)\nmultiplication_result = np.multiply(matrix1, matrix2)\ndot_product_result = np.dot(matrix1, matrix2)\n\nprint(\"Product Result:\")\nprint(product_result)\n\nprint(\"Multiplication Result:\")\nprint(multiplication_result)\n\nprint(\"Dot Product Result:\")\nprint(dot_product_result)",
      "metadata": {
        "trusted": true
      },
      "execution_count": 2,
      "outputs": [
        {
          "name": "stdout",
          "text": "Matrix 1:\n[[0.25213022 0.39076443 0.200704  ]\n [0.42620883 0.25844834 0.72242075]\n [0.54140655 0.43419392 0.9959473 ]]\nMatrix 2:\n[[0.08138518 0.35516279 0.8952612 ]\n [0.22353084 0.39815259 0.73984668]\n [0.1402853  0.17205003 0.92639279]]\nProduct Result:\n0.00036840537692063656\nMultiplication Result:\n[[0.02051966 0.13878499 0.1796825 ]\n [0.09527082 0.10290188 0.53448059]\n [0.07595138 0.07470308 0.9226384 ]]\nDot Product Result:\n[[0.13602338 0.27966227 0.70075891]\n [0.19380327 0.3785679  1.24202575]\n [0.28083496 0.53651566 1.72857562]]\n",
          "output_type": "stream"
        }
      ]
    },
    {
      "cell_type": "code",
      "source": "'''Q2. Perform the following set operations using the Numpy functions.\nè Union\nè Intersection\nè Set difference\nè XOR\n'''\nimport numpy as np\n\n# Create two NumPy arrays to represent sets\nset1 = np.array([1, 2, 3, 4, 5])\nset2 = np.array([3, 4, 5, 6, 7])\n\n# Union\nunion_result = np.union1d(set1, set2)\nprint(\"Union Result:\")\nprint(union_result)\n\n# Intersection\nintersection_result = np.intersect1d(set1, set2)\nprint(\"Intersection Result:\")\nprint(intersection_result)\n\n# Set Difference (set1 - set2)\nset_difference_result = np.setdiff1d(set1, set2)\nprint(\"Set Difference Result (set1 - set2):\")\nprint(set_difference_result)\n\n# XOR (Symmetric Difference)\nxor_result = np.setxor1d(set1, set2)\nprint(\"XOR (Symmetric Difference) Result:\")\nprint(xor_result)",
      "metadata": {
        "trusted": true
      },
      "execution_count": 3,
      "outputs": [
        {
          "name": "stdout",
          "text": "Union Result:\n[1 2 3 4 5 6 7]\nIntersection Result:\n[3 4 5]\nSet Difference Result (set1 - set2):\n[1 2]\nXOR (Symmetric Difference) Result:\n[1 2 6 7]\n",
          "output_type": "stream"
        }
      ]
    },
    {
      "cell_type": "code",
      "source": "'''Q2. Perform the following set operations using the Numpy functions.\nè Union\nè Intersection\nè Set difference\nè XOR\n'''\nimport numpy as np\n\n# Create two NumPy arrays to represent sets\nset1 = np.array([1, 2, 3, 4, 5])\nset2 = np.array([3, 4, 5, 6, 7])\n\n# Union\nunion_result = np.union1d(set1, set2)\nprint(\"Union Result:\")\nprint(union_result)\n\n# Intersection\nintersection_result = np.intersect1d(set1, set2)\nprint(\"Intersection Result:\")\nprint(intersection_result)\n\n# Set Difference (set1 - set2)\nset_difference_result = np.setdiff1d(set1, set2)\nprint(\"Set Difference Result (set1 - set2):\")\nprint(set_difference_result)\n\n# XOR (Symmetric Difference)\nxor_result = np.setxor1d(set1, set2)\nprint(\"XOR (Symmetric Difference) Result:\")\nprint(xor_result)",
      "metadata": {
        "trusted": true
      },
      "execution_count": 4,
      "outputs": [
        {
          "name": "stdout",
          "text": "Union Result:\n[1 2 3 4 5 6 7]\nIntersection Result:\n[3 4 5]\nSet Difference Result (set1 - set2):\n[1 2]\nXOR (Symmetric Difference) Result:\n[1 2 6 7]\n",
          "output_type": "stream"
        }
      ]
    },
    {
      "cell_type": "code",
      "source": "'''Q4. Create two 1D array and perform the Addition using zip(), add() and user defined function (frompyfunc())'''\n\n\nimport numpy as np\n\n# Create two 1D arrays\narray1 = np.array([1, 2, 3, 4, 5])\narray2 = np.array([6, 7, 8, 9, 10])\n\n# Perform addition using zip()\naddition_zip = [x + y for x, y in zip(array1, array2)]\nprint(\"Addition using zip():\")\nprint(addition_zip)\n\n# Perform addition using numpy.add()\naddition_np = np.add(array1, array2)\nprint(\"Addition using numpy.add():\")\nprint(addition_np)\n\n# Define a user-defined addition function using numpy.frompyfunc()\ndef custom_add(x, y):\n    return x + y\n\naddition_custom = np.frompyfunc(custom_add, 2, 1)(array1, array2)\nprint(\"Addition using user-defined function (frompyfunc()):\")\nprint(addition_custom)\n",
      "metadata": {
        "trusted": true
      },
      "execution_count": 6,
      "outputs": [
        {
          "name": "stdout",
          "text": "Addition using zip():\n[7, 9, 11, 13, 15]\nAddition using numpy.add():\n[ 7  9 11 13 15]\nAddition using user-defined function (frompyfunc()):\n[7 9 11 13 15]\n",
          "output_type": "stream"
        }
      ]
    },
    {
      "cell_type": "code",
      "source": "'''Q5. Find the LCM (Least Common Multiple) and GCD (Greatest Common Divisor) of an array of elements using reduce().'''\n\nfrom functools import reduce\nimport math\n\n# Define a function to find the LCM of two numbers\ndef lcm(x, y):\n    return x * y // math.gcd(x, y)\n\n# Define a function to find the GCD of two numbers\ndef gcd(x, y):\n    return math.gcd(x, y)\n\n# Example array of elements\narray = [12, 18, 24, 36]\n\n# Find the LCM of the elements in the array\nlcm_result = reduce(lcm, array)\n\n# Find the GCD of the elements in the array\ngcd_result = reduce(gcd, array)\n\nprint(\"Array:\", array)\nprint(\"LCM of the elements:\", lcm_result)\nprint(\"GCD of the elements:\", gcd_result)",
      "metadata": {
        "trusted": true
      },
      "execution_count": 7,
      "outputs": [
        {
          "name": "stdout",
          "text": "Array: [12, 18, 24, 36]\nLCM of the elements: 72\nGCD of the elements: 6\n",
          "output_type": "stream"
        }
      ]
    },
    {
      "cell_type": "code",
      "source": "",
      "metadata": {},
      "execution_count": null,
      "outputs": []
    }
  ]
}